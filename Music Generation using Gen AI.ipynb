{
  "nbformat": 4,
  "nbformat_minor": 0,
  "metadata": {
    "colab": {
      "provenance": []
    },
    "kernelspec": {
      "name": "python3",
      "display_name": "Python 3"
    },
    "language_info": {
      "name": "python"
    }
  },
  "cells": [
    {
      "cell_type": "code",
      "execution_count": null,
      "metadata": {
        "id": "b7oNgtQf2r-I"
      },
      "outputs": [],
      "source": [
        "from music21 import *"
      ]
    },
    {
      "cell_type": "code",
      "source": [
        "#defining function to read MIDI files\n",
        "def read_midi(file):\n",
        "\n",
        "    print(\"Loading Music File:\",file)\n",
        "\n",
        "    notes=[]\n",
        "    notes_to_parse = None\n",
        "\n",
        "    #parsing a midi file\n",
        "    midi = converter.parse(file)\n",
        "\n",
        "    #grouping based on different instruments\n",
        "    s2 = instrument.partitionByInstrument(midi)\n",
        "\n",
        "    #Looping over all the instruments\n",
        "    for part in s2.parts:\n",
        "\n",
        "        #select elements of only piano\n",
        "        if 'Piano' in str(part):\n",
        "\n",
        "            notes_to_parse = part.recurse()\n",
        "\n",
        "            #finding whether a particular element is note or a chord\n",
        "            for element in notes_to_parse:\n",
        "\n",
        "                #note\n",
        "                if isinstance(element, note.Note):\n",
        "                    notes.append(str(element.pitch))\n",
        "\n",
        "                #chord\n",
        "                elif isinstance(element, chord.Chord):\n",
        "                    notes.append('.'.join(str(n) for n in element.normalOrder))\n",
        "\n",
        "    return np.array(notes)"
      ],
      "metadata": {
        "id": "ahgs2qPH3BCa"
      },
      "execution_count": null,
      "outputs": []
    },
    {
      "cell_type": "code",
      "source": [
        "#for listing down the file names\n",
        "import os\n",
        "\n",
        "#Array Processing\n",
        "import numpy as np\n",
        "\n",
        "#specify the path\n",
        "path='/content/midi_files/'\n",
        "\n",
        "#read all the filenames\n",
        "files=[i for i in os.listdir(path) if i.endswith(\".mid\")]\n",
        "\n",
        "all_notes = []\n",
        "\n",
        "# Reading and processing each MIDI file\n",
        "for file in files:\n",
        "    midi_notes = read_midi(path + file)\n",
        "    all_notes.extend(midi_notes)\n",
        "\n",
        "# Convert the list of notes/chords to a NumPy array\n",
        "notes_array = np.array(all_notes)\n",
        "print(notes_array)"
      ],
      "metadata": {
        "colab": {
          "base_uri": "https://localhost:8080/"
        },
        "id": "M_K4zCTA3Ini",
        "outputId": "0297d5a0-05d7-451e-96fa-dada822bffe3"
      },
      "execution_count": null,
      "outputs": [
        {
          "output_type": "stream",
          "name": "stdout",
          "text": [
            "Loading Music File: /content/midi_files/youre only lonely L.mid\n",
            "Loading Music File: /content/midi_files/Pirates of the Caribbean .mid\n",
            "Loading Music File: /content/midi_files/Never-Gonna-Give-You-Up-3.mid\n",
            "['D4' 'D4' 'D4' 'D4' 'D4' 'D4' 'D4' 'D4' 'D4' 'D4' 'D4' 'D4' 'D4' 'D4'\n",
            " 'D4' 'D4' 'D4' 'D4' 'D4' '2' 'D4' 'D4' 'D4' 'D4' '2' 'D4' 'D4' '2' 'A3'\n",
            " 'C4' '2.5.9' '2' '2.5.9' '2' '2' '2.5.9' '9.0.4' '0' '10.2.5' '10'\n",
            " '10.2.5' '10' '10' '10.2.5' '2.7' '10' '9.0.4' '9' '9.0.4' '9' '9' '9.2'\n",
            " '7.0' '9' '9.0' '2' '9.2' '2' '2' 'A3' 'C4' '2' '10.2.5' '10' '10.2.5'\n",
            " '10' '10' '10.2' '4.10' '10' '5.9.0' '10' '5.9.0' '10' '10' '0.5' '7.0'\n",
            " '10' '9.0.4' '9' '9.0.4' '9' '9' '9.2' '7.0' '9' '2.5.9' '2' '2' '2' 'A3'\n",
            " 'C4' '2' '2.5.9' '2' '2.5.9' '2' '2' '9.2' '5.9' '2' '7.10.2' '10'\n",
            " '7.10.2' '10' '10' '2.7' '9.2' '10' '7.10.2' '7' '7.10.2' '7' '7' '5.9'\n",
            " '4.7' '7' '5.9' '2' 'D4' '2' '2' 'D4' 'E4' '2' '10.2.5' '10' '10.2.5'\n",
            " '10' '10' '7.10.2' '10' '5.9' '2' 'D4' '2' '2' 'D4' 'F4' '2' '9.1.4' '9'\n",
            " '9.1.4' '9' '9' '2.5' '11.2' '9' '9.1.4' '9' '9' '9' 'A4' 'C5' '9'\n",
            " '2.5.9' '2' '2.5.9' '2' '2' '2.5.9' '9.0.4' '0' '10.2.5' '10' '10.2.5'\n",
            " '10' '10' '10.2.5' '2.7' '10' '9.0.4' '9' '9.0.4' '9' '9' '9.2' '7.0' '9'\n",
            " '9.0' '2' '9.2' '2' '2' 'A4' 'C5' '2' '10.2.5' '10' '10.2.5' '10' '10'\n",
            " '10.2' '4.10' '10' '5.9.0' '5' '5.9.0' '5' '5' '0.5' '7.0' '5' '0.4' '0'\n",
            " '0.4' '0' '9' '9.2' 'C5' '9' '2.5.9' '2' '2' '2' 'A4' 'C5' '2' '2.5.9'\n",
            " '2' '2.5.9' '2' '2' '9.2' '5.9' '2' '7.10.2' '10' '7.10.2' '10' '10'\n",
            " '2.7' '9.2' '10' '7.10.2' '7' '7.10.2' '7' '7' '5.9' '4.7' '7' '5.9' '2'\n",
            " 'D5' '2' '2' 'D5' 'E5' '2' '10.2.5' '10' '10.2.5' '10' '10' '7.10.2' '10'\n",
            " '5.9' '2' 'D5' '2' '2' 'D5' 'F5' '2' '9.1.4' '9' '9.1.4' '9' '9' 'D5'\n",
            " 'C#5' '9' '9.2' '2' '9.2' '2' '9.0.4' '0' '0.2.5' '0' 'F5' '0' 'F5'\n",
            " '7.10.2' '10' '9.2' '9' 'F5' '9' '9' '5.9' '9.2' '9' 'A4' '9' '9' '9' '9'\n",
            " '7.10.2' '7' '7' '7' '7.10' '10.2' '7' 'B-4' '7' '7' '7' '7' '1.4' '9'\n",
            " '1.4' '9' '2.7' '9' '9' '1.5.9' '9' '9' '9' 'F4' 'G4' '9' '2.5.9' '2'\n",
            " '2.5.9' '2' '2' '2.5.9' '2' '10.2.5' '2' '2.5.9' '2' '2' '2' '2' '0.4.7'\n",
            " '0' '0.4.7' '0' '0' '0.4.7' '0' '0.4.7' '5' '5.9.0' '5' '5' '5' '5'\n",
            " '2.5.9' '2' '2.5.9' '2' '2' '2.5.9' '2' '10.2.5' '2' '2.5.9' '2' '2' '2'\n",
            " '2' '1.4.7' '9' '1.5' '9' '9' '4.9' '9' '2.5.9' '2' '2' '2' 'D4' 'E4' '2'\n",
            " '2.5.9' '2' '2' '2' 'G4' 'A4' '2' '7.0' '0' '0.5' '0' '0' '0.4' '0' '0'\n",
            " '5.9.0' '5' '7.9.0' '5' '5' '9.0' '5' '5' '0.4.7' '0' '0' '0' 'F4' '0'\n",
            " 'G4' '0' '5.9.0' '5' '5' '5' 'G4' '5' 'F4' '5' '1.4' '9' '1.5' '9' '9'\n",
            " '1.4' '9' '9' '2.5.9' '2' '2' '2' 'E4' 'C4' '2' '2.5.9' '2' '2' '2' 'D5'\n",
            " '2' 'E5' '2' '2.5.9' '2' '2' '2' 'E5' '2' 'F5' '2' '7.0' '0' '0.5' '0'\n",
            " '0' '7.0' '0' '0' '5.9' '5' '7.0' '5' '5' '0.5' '5' '5' '10.2.5' '10'\n",
            " '10' '10' 'D5' '10' 'E5' '10' '2.5.9' '2' '7.9.2' '2' '2' '9.2' '2' '2'\n",
            " '10.2' '7' '10.2' '7' '7' '7.10' '7' '7' '5.9' '9' '9' '9' 'G5' '9' 'E5'\n",
            " '9' '9.2' '9' '9' '9' 'E5' '9' 'C#5' '9' '2.5.9' '2' '2' '2' '2' '2'\n",
            " '7.10.2' '7' '7' '7' '7' '7' '5.9.0' '5' '5.9.0' '5' '5' '5.9.0' '5'\n",
            " '9.0.4' '0' 'G5' '0' '0' '0' '0' '7.10.2' '7' '7' '7' '7' '7' '2.5.9' '9'\n",
            " '9' '9' '9' '9' '5.9' '9' '7.9' '9' '9' '4.9' '9' '9' '2.5.9' '2' '2'\n",
            " 'D5' '2' 'E5' '2' 'F5' '2' '2.5.9' '2' '2' 'D5' '2' 'E5' '2' 'F5' '2'\n",
            " '10.2.5' '10' '10' 'D5' '10' 'E5' '10' 'F5' '10' '5.9.0' '5' '5.9.0' '5'\n",
            " '5' '0.5' '5' '5' '9.0.4' '0' 'G5' '0' '0' '0' '0' '7.10.2' '7' '7' '7'\n",
            " '7' '7' '2.5.9' '9' '9' '9' '9' '9' '5.9' '9' '7.9' '9' '9' '4.9' '9' '9'\n",
            " '2.5.9' '2' '2' '2' '2' 'D4' '2' 'D4' '2']\n"
          ]
        }
      ]
    },
    {
      "cell_type": "code",
      "source": [
        "#converting 2D array into 1D array\n",
        "notes_ = [element for note_ in notes_array for element in note_]\n",
        "\n",
        "#No. of unique notes\n",
        "unique_notes = list(set(notes_))\n",
        "print(len(unique_notes))"
      ],
      "metadata": {
        "colab": {
          "base_uri": "https://localhost:8080/"
        },
        "id": "lceH8h3m60Rt",
        "outputId": "bec4295c-1e44-455c-8884-98721441c7bc"
      },
      "execution_count": null,
      "outputs": [
        {
          "output_type": "stream",
          "name": "stdout",
          "text": [
            "18\n"
          ]
        }
      ]
    },
    {
      "cell_type": "code",
      "source": [
        "#importing library\n",
        "from collections import Counter\n",
        "\n",
        "#computing frequency of each note\n",
        "freq = dict(Counter(notes_))\n",
        "\n",
        "#library for visualiation\n",
        "import matplotlib.pyplot as plt\n",
        "\n",
        "#consider only the frequencies\n",
        "no=[count for _,count in freq.items()]\n",
        "\n",
        "#set the figure size\n",
        "plt.figure(figsize=(5,5))\n",
        "\n",
        "#plot\n",
        "plt.hist(no)"
      ],
      "metadata": {
        "colab": {
          "base_uri": "https://localhost:8080/",
          "height": 514
        },
        "id": "_kw2L9UC66yb",
        "outputId": "173eea13-b687-4140-bde9-57ed1416d1ee"
      },
      "execution_count": null,
      "outputs": [
        {
          "output_type": "execute_result",
          "data": {
            "text/plain": [
              "(array([9., 1., 1., 2., 0., 1., 2., 1., 0., 1.]),\n",
              " array([  1. ,  29.4,  57.8,  86.2, 114.6, 143. , 171.4, 199.8, 228.2,\n",
              "        256.6, 285. ]),\n",
              " <BarContainer object of 10 artists>)"
            ]
          },
          "metadata": {},
          "execution_count": 25
        },
        {
          "output_type": "display_data",
          "data": {
            "text/plain": [
              "<Figure size 500x500 with 1 Axes>"
            ],
            "image/png": "[encoded data removed]"
          },
          "metadata": {
            "image/png": {
              "width": 426,
              "height": 428
            }
          }
        }
      ]
    },
    {
      "cell_type": "code",
      "source": [
        "frequent_notes = [note_ for note_, count in freq.items() if count>=50]\n",
        "print(len(frequent_notes))"
      ],
      "metadata": {
        "colab": {
          "base_uri": "https://localhost:8080/"
        },
        "id": "unyYz3R77R0T",
        "outputId": "df6de00c-8230-40e9-9fbf-2e1c327d7bcd"
      },
      "execution_count": null,
      "outputs": [
        {
          "output_type": "stream",
          "name": "stdout",
          "text": [
            "8\n"
          ]
        }
      ]
    },
    {
      "cell_type": "code",
      "source": [
        "import numpy as np\n",
        "\n",
        "# Example of frequent_notes\n",
        "frequent_notes = [8]  # Sample list of frequent notes\n",
        "\n",
        "# Assuming notes_array is a list of lists with different lengths\n",
        "notes_array = ['D4' 'D4' 'D4' 'D4' 'D4' 'D4' 'D4' 'D4' 'D4' 'D4' 'D4' 'D4' 'D4' 'D4'\n",
        " 'D4' 'D4' 'D4' 'D4' 'D4' '2' 'D4' 'D4' 'D4' 'D4' '2' 'D4' 'D4' '2' 'A3'\n",
        " 'C4' '2.5.9' '2' '2.5.9' '2' '2' '2.5.9' '9.0.4' '0' '10.2.5' '10'\n",
        " '10.2.5' '10' '10' '10.2.5' '2.7' '10' '9.0.4' '9' '9.0.4' '9' '9' '9.2'\n",
        " '7.0' '9' '9.0' '2' '9.2' '2' '2' 'A3' 'C4' '2' '10.2.5' '10' '10.2.5'\n",
        " '10' '10' '10.2' '4.10' '10' '5.9.0' '10' '5.9.0' '10' '10' '0.5' '7.0'\n",
        " '10' '9.0.4' '9' '9.0.4' '9' '9' '9.2' '7.0' '9' '2.5.9' '2' '2' '2' 'A3'\n",
        " 'C4' '2' '2.5.9' '2' '2.5.9' '2' '2' '9.2' '5.9' '2' '7.10.2' '10'\n",
        " '7.10.2' '10' '10' '2.7' '9.2' '10' '7.10.2' '7' '7.10.2' '7' '7' '5.9'\n",
        " '4.7' '7' '5.9' '2' 'D4' '2' '2' 'D4' 'E4' '2' '10.2.5' '10' '10.2.5'\n",
        " '10' '10' '7.10.2' '10' '5.9' '2' 'D4' '2' '2' 'D4' 'F4' '2' '9.1.4' '9'\n",
        " '9.1.4' '9' '9' '2.5' '11.2' '9' '9.1.4' '9' '9' '9' 'A4' 'C5' '9'\n",
        " '2.5.9' '2' '2.5.9' '2' '2' '2.5.9' '9.0.4' '0' '10.2.5' '10' '10.2.5'\n",
        " '10' '10' '10.2.5' '2.7' '10' '9.0.4' '9' '9.0.4' '9' '9' '9.2' '7.0' '9'\n",
        " '9.0' '2' '9.2' '2' '2' 'A4' 'C5' '2' '10.2.5' '10' '10.2.5' '10' '10'\n",
        " '10.2' '4.10' '10' '5.9.0' '5' '5.9.0' '5' '5' '0.5' '7.0' '5' '0.4' '0'\n",
        " '0.4' '0' '9' '9.2' 'C5' '9' '2.5.9' '2' '2' '2' 'A4' 'C5' '2' '2.5.9'\n",
        " '2' '2.5.9' '2' '2' '9.2' '5.9' '2' '7.10.2' '10' '7.10.2' '10' '10'\n",
        " '2.7' '9.2' '10' '7.10.2' '7' '7.10.2' '7' '7' '5.9' '4.7' '7' '5.9' '2'\n",
        " 'D5' '2' '2' 'D5' 'E5' '2' '10.2.5' '10' '10.2.5' '10' '10' '7.10.2' '10'\n",
        " '5.9' '2' 'D5' '2' '2' 'D5' 'F5' '2' '9.1.4' '9' '9.1.4' '9' '9' 'D5'\n",
        " 'C#5' '9' '9.2' '2' '9.2' '2' '9.0.4' '0' '0.2.5' '0' 'F5' '0' 'F5'\n",
        " '7.10.2' '10' '9.2' '9' 'F5' '9' '9' '5.9' '9.2' '9' 'A4' '9' '9' '9' '9'\n",
        " '7.10.2' '7' '7' '7' '7.10' '10.2' '7' 'B-4' '7' '7' '7' '7' '1.4' '9'\n",
        " '1.4' '9' '2.7' '9' '9' '1.5.9' '9' '9' '9' 'F4' 'G4' '9' '2.5.9' '2'\n",
        " '2.5.9' '2' '2' '2.5.9' '2' '10.2.5' '2' '2.5.9' '2' '2' '2' '2' '0.4.7'\n",
        " '0' '0.4.7' '0' '0' '0.4.7' '0' '0.4.7' '5' '5.9.0' '5' '5' '5' '5'\n",
        " '2.5.9' '2' '2.5.9' '2' '2' '2.5.9' '2' '10.2.5' '2' '2.5.9' '2' '2' '2'\n",
        " '2' '1.4.7' '9' '1.5' '9' '9' '4.9' '9' '2.5.9' '2' '2' '2' 'D4' 'E4' '2'\n",
        " '2.5.9' '2' '2' '2' 'G4' 'A4' '2' '7.0' '0' '0.5' '0' '0' '0.4' '0' '0'\n",
        " '5.9.0' '5' '7.9.0' '5' '5' '9.0' '5' '5' '0.4.7' '0' '0' '0' 'F4' '0'\n",
        " 'G4' '0' '5.9.0' '5' '5' '5' 'G4' '5' 'F4' '5' '1.4' '9' '1.5' '9' '9'\n",
        " '1.4' '9' '9' '2.5.9' '2' '2' '2' 'E4' 'C4' '2' '2.5.9' '2' '2' '2' 'D5'\n",
        " '2' 'E5' '2' '2.5.9' '2' '2' '2' 'E5' '2' 'F5' '2' '7.0' '0' '0.5' '0'\n",
        " '0' '7.0' '0' '0' '5.9' '5' '7.0' '5' '5' '0.5' '5' '5' '10.2.5' '10'\n",
        " '10' '10' 'D5' '10' 'E5' '10' '2.5.9' '2' '7.9.2' '2' '2' '9.2' '2' '2'\n",
        " '10.2' '7' '10.2' '7' '7' '7.10' '7' '7' '5.9' '9' '9' '9' 'G5' '9' 'E5'\n",
        " '9' '9.2' '9' '9' '9' 'E5' '9' 'C#5' '9' '2.5.9' '2' '2' '2' '2' '2'\n",
        " '7.10.2' '7' '7' '7' '7' '7' '5.9.0' '5' '5.9.0' '5' '5' '5.9.0' '5'\n",
        " '9.0.4' '0' 'G5' '0' '0' '0' '0' '7.10.2' '7' '7' '7' '7' '7' '2.5.9' '9'\n",
        " '9' '9' '9' '9' '5.9' '9' '7.9' '9' '9' '4.9' '9' '9' '2.5.9' '2' '2'\n",
        " 'D5' '2' 'E5' '2' 'F5' '2' '2.5.9' '2' '2' 'D5' '2' 'E5' '2' 'F5' '2'\n",
        " '10.2.5' '10' '10' 'D5' '10' 'E5' '10' 'F5' '10' '5.9.0' '5' '5.9.0' '5'\n",
        " '5' '0.5' '5' '5' '9.0.4' '0' 'G5' '0' '0' '0' '0' '7.10.2' '7' '7' '7'\n",
        " '7' '7' '2.5.9' '9' '9' '9' '9' '9' '5.9' '9' '7.9' '9' '9' '4.9' '9' '9'\n",
        " '2.5.9' '2' '2' '2' '2' 'D4' '2' 'D4' '2']\n",
        "\n",
        "# Finding the maximum length of the lists\n",
        "max_len = max(len(notes) for notes in notes_array)\n",
        "\n",
        "# Padding the lists to have the same length\n",
        "new_music = []\n",
        "for notes in notes_array:\n",
        "    temp = []\n",
        "    for note_ in notes:\n",
        "        if note_ in frequent_notes:\n",
        "            temp.append(note_)\n",
        "    # Padding with zeros if needed\n",
        "    while len(temp) < max_len:\n",
        "        temp.append(0)\n",
        "    new_music.append(temp)\n",
        "\n",
        "# Convert the list of lists to a NumPy array\n",
        "new_music = np.array(new_music)\n",
        "print(new_music)"
      ],
      "metadata": {
        "colab": {
          "base_uri": "https://localhost:8080/"
        },
        "id": "4Y3OIn7U69Rr",
        "outputId": "bf3f56cb-aeba-42f4-c0a0-4774fd6717a1"
      },
      "execution_count": null,
      "outputs": [
        {
          "output_type": "stream",
          "name": "stdout",
          "text": [
            "[[0 0 0 ... 0 0 0]]\n"
          ]
        }
      ]
    },
    {
      "cell_type": "code",
      "source": [
        "no_of_timesteps = 32\n",
        "x = []\n",
        "y = []\n",
        "\n",
        "for note_ in new_music:\n",
        "    for i in range(0, len(note_) - no_of_timesteps, 1):\n",
        "\n",
        "        #preparing input and output sequences\n",
        "        input_ = note_[i:i + no_of_timesteps]\n",
        "        output = note_[i + no_of_timesteps]\n",
        "\n",
        "        x.append(input_)\n",
        "        y.append(output)\n",
        "\n",
        "x=np.array(x)\n",
        "y=np.array(y)"
      ],
      "metadata": {
        "id": "AjnrFHuJ89zd"
      },
      "execution_count": null,
      "outputs": []
    },
    {
      "cell_type": "code",
      "source": [
        "unique_x = list(set(x.ravel()))\n",
        "x_note_to_int = dict((note_, number) for number, note_ in enumerate(unique_x))"
      ],
      "metadata": {
        "id": "u-ijLV6U9Agj"
      },
      "execution_count": null,
      "outputs": []
    },
    {
      "cell_type": "code",
      "source": [
        "#preparing input sequences\n",
        "x_seq=[]\n",
        "for i in x:\n",
        "    temp=[]\n",
        "    for j in i:\n",
        "        #assigning unique integer to every note\n",
        "        temp.append(x_note_to_int[j])\n",
        "    x_seq.append(temp)\n",
        "\n",
        "x_seq = np.array(x_seq)"
      ],
      "metadata": {
        "id": "7cS6vXFG9Gy7"
      },
      "execution_count": null,
      "outputs": []
    },
    {
      "cell_type": "code",
      "source": [
        "unique_y = list(set(y))\n",
        "y_note_to_int = dict((note_, number) for number, note_ in enumerate(unique_y))\n",
        "y_seq=np.array([y_note_to_int[i] for i in y])"
      ],
      "metadata": {
        "id": "JAAdjV-f9L7b"
      },
      "execution_count": null,
      "outputs": []
    },
    {
      "cell_type": "code",
      "source": [
        "from sklearn.model_selection import train_test_split\n",
        "x_tr, x_val, y_tr, y_val = train_test_split(x_seq,y_seq,test_size=0.2,random_state=0)"
      ],
      "metadata": {
        "id": "OiYCunxU9T4D"
      },
      "execution_count": null,
      "outputs": []
    },
    {
      "cell_type": "code",
      "source": [
        "def lstm():\n",
        "  model = Sequential()\n",
        "  model.add(LSTM(128,return_sequences=True))\n",
        "  model.add(LSTM(128))\n",
        "  model.add(Dense(256))\n",
        "  model.add(Activation('relu'))\n",
        "  model.add(Dense(n_vocab))\n",
        "  model.add(Activation('softmax'))\n",
        "  model.compile(loss='sparse_categorical_crossentropy', optimizer='adam')\n",
        "  return model"
      ],
      "metadata": {
        "id": "rQYDMUvJ9Y4s"
      },
      "execution_count": null,
      "outputs": []
    },
    {
      "cell_type": "code",
      "source": [
        "from keras.layers import *\n",
        "from keras.models import *\n",
        "from keras.callbacks import *\n",
        "import keras.backend as K\n",
        "\n",
        "K.clear_session()\n",
        "model = Sequential()\n",
        "\n",
        "#embedding layer\n",
        "model.add(Embedding(len(unique_x), 100, input_length=32,trainable=True))\n",
        "\n",
        "model.add(Conv1D(64,3, padding='causal',activation='relu'))\n",
        "model.add(Dropout(0.2))\n",
        "model.add(MaxPool1D(2))\n",
        "\n",
        "model.add(Conv1D(128,3,activation='relu',dilation_rate=2,padding='causal'))\n",
        "model.add(Dropout(0.2))\n",
        "model.add(MaxPool1D(2))\n",
        "\n",
        "model.add(Conv1D(256,3,activation='relu',dilation_rate=4,padding='causal'))\n",
        "model.add(Dropout(0.2))\n",
        "model.add(MaxPool1D(2))\n",
        "\n",
        "#model.add(Conv1D(256,5,activation='relu'))\n",
        "model.add(GlobalMaxPool1D())\n",
        "\n",
        "model.add(Dense(256, activation='relu'))\n",
        "model.add(Dense(len(unique_y), activation='softmax'))\n",
        "\n",
        "model.compile(loss='sparse_categorical_crossentropy', optimizer='adam')\n",
        "\n",
        "model.summary()"
      ],
      "metadata": {
        "colab": {
          "base_uri": "https://localhost:8080/"
        },
        "id": "LaaXfzCY9ezM",
        "outputId": "656f073e-350b-4c90-cace-509a675cd3d3"
      },
      "execution_count": null,
      "outputs": [
        {
          "output_type": "stream",
          "name": "stdout",
          "text": [
            "Model: \"sequential\"\n",
            "_________________________________________________________________\n",
            " Layer (type)                Output Shape              Param #   \n",
            "=================================================================\n",
            " embedding (Embedding)       (None, 32, 100)           100       \n",
            "                                                                 \n",
            " conv1d (Conv1D)             (None, 32, 64)            19264     \n",
            "                                                                 \n",
            " dropout (Dropout)           (None, 32, 64)            0         \n",
            "                                                                 \n",
            " max_pooling1d (MaxPooling1  (None, 16, 64)            0         \n",
            " D)                                                              \n",
            "                                                                 \n",
            " conv1d_1 (Conv1D)           (None, 16, 128)           24704     \n",
            "                                                                 \n",
            " dropout_1 (Dropout)         (None, 16, 128)           0         \n",
            "                                                                 \n",
            " max_pooling1d_1 (MaxPoolin  (None, 8, 128)            0         \n",
            " g1D)                                                            \n",
            "                                                                 \n",
            " conv1d_2 (Conv1D)           (None, 8, 256)            98560     \n",
            "                                                                 \n",
            " dropout_2 (Dropout)         (None, 8, 256)            0         \n",
            "                                                                 \n",
            " max_pooling1d_2 (MaxPoolin  (None, 4, 256)            0         \n",
            " g1D)                                                            \n",
            "                                                                 \n",
            " global_max_pooling1d (Glob  (None, 256)               0         \n",
            " alMaxPooling1D)                                                 \n",
            "                                                                 \n",
            " dense (Dense)               (None, 256)               65792     \n",
            "                                                                 \n",
            " dense_1 (Dense)             (None, 1)                 257       \n",
            "                                                                 \n",
            "=================================================================\n",
            "Total params: 208677 (815.14 KB)\n",
            "Trainable params: 208677 (815.14 KB)\n",
            "Non-trainable params: 0 (0.00 Byte)\n",
            "_________________________________________________________________\n"
          ]
        }
      ]
    },
    {
      "cell_type": "code",
      "source": [
        "mc=ModelCheckpoint('best_model.h5', monitor='val_loss', mode='min', save_best_only=True,verbose=1)"
      ],
      "metadata": {
        "id": "wnO1qH2m9uzc"
      },
      "execution_count": null,
      "outputs": []
    },
    {
      "cell_type": "code",
      "source": [
        "history = model.fit(np.array(x_tr),np.array(y_tr),batch_size=128,epochs=50, validation_data=(np.array(x_val),np.array(y_val)),verbose=1, callbacks=[mc])"
      ],
      "metadata": {
        "colab": {
          "base_uri": "https://localhost:8080/"
        },
        "id": "b0LoCMzy90JU",
        "outputId": "345ac7c7-1f2f-4d84-f3ce-5cab1aaca889"
      },
      "execution_count": null,
      "outputs": [
        {
          "output_type": "stream",
          "name": "stdout",
          "text": [
            "Epoch 1/50\n",
            "8/9 [=========================>....] - ETA: 0s - loss: 0.0000e+00\n",
            "Epoch 1: val_loss improved from inf to 0.00000, saving model to best_model.h5\n",
            "9/9 [==============================] - 3s 163ms/step - loss: 0.0000e+00 - val_loss: 0.0000e+00\n",
            "Epoch 2/50\n",
            "1/9 [==>...........................] - ETA: 0s - loss: 0.0000e+00"
          ]
        },
        {
          "output_type": "stream",
          "name": "stderr",
          "text": [
            "/usr/local/lib/python3.10/dist-packages/keras/src/engine/training.py:3103: UserWarning: You are saving your model as an HDF5 file via `model.save()`. This file format is considered legacy. We recommend using instead the native Keras format, e.g. `model.save('my_model.keras')`.\n",
            "  saving_api.save_model(\n"
          ]
        },
        {
          "output_type": "stream",
          "name": "stdout",
          "text": [
            "8/9 [=========================>....] - ETA: 0s - loss: 0.0000e+00\n",
            "Epoch 2: val_loss did not improve from 0.00000\n",
            "9/9 [==============================] - 1s 77ms/step - loss: 0.0000e+00 - val_loss: 0.0000e+00\n",
            "Epoch 3/50\n",
            "8/9 [=========================>....] - ETA: 0s - loss: 0.0000e+00\n",
            "Epoch 3: val_loss did not improve from 0.00000\n",
            "9/9 [==============================] - 1s 74ms/step - loss: 0.0000e+00 - val_loss: 0.0000e+00\n",
            "Epoch 4/50\n",
            "8/9 [=========================>....] - ETA: 0s - loss: 0.0000e+00\n",
            "Epoch 4: val_loss did not improve from 0.00000\n",
            "9/9 [==============================] - 1s 78ms/step - loss: 0.0000e+00 - val_loss: 0.0000e+00\n",
            "Epoch 5/50\n",
            "8/9 [=========================>....] - ETA: 0s - loss: 0.0000e+00\n",
            "Epoch 5: val_loss did not improve from 0.00000\n",
            "9/9 [==============================] - 1s 73ms/step - loss: 0.0000e+00 - val_loss: 0.0000e+00\n",
            "Epoch 6/50\n",
            "9/9 [==============================] - ETA: 0s - loss: 0.0000e+00\n",
            "Epoch 6: val_loss did not improve from 0.00000\n",
            "9/9 [==============================] - 1s 86ms/step - loss: 0.0000e+00 - val_loss: 0.0000e+00\n",
            "Epoch 7/50\n",
            "9/9 [==============================] - ETA: 0s - loss: 0.0000e+00\n",
            "Epoch 7: val_loss did not improve from 0.00000\n",
            "9/9 [==============================] - 1s 122ms/step - loss: 0.0000e+00 - val_loss: 0.0000e+00\n",
            "Epoch 8/50\n",
            "9/9 [==============================] - ETA: 0s - loss: 0.0000e+00\n",
            "Epoch 8: val_loss did not improve from 0.00000\n",
            "9/9 [==============================] - 1s 116ms/step - loss: 0.0000e+00 - val_loss: 0.0000e+00\n",
            "Epoch 9/50\n",
            "8/9 [=========================>....] - ETA: 0s - loss: 0.0000e+00\n",
            "Epoch 9: val_loss did not improve from 0.00000\n",
            "9/9 [==============================] - 1s 94ms/step - loss: 0.0000e+00 - val_loss: 0.0000e+00\n",
            "Epoch 10/50\n",
            "8/9 [=========================>....] - ETA: 0s - loss: 0.0000e+00\n",
            "Epoch 10: val_loss did not improve from 0.00000\n",
            "9/9 [==============================] - 1s 78ms/step - loss: 0.0000e+00 - val_loss: 0.0000e+00\n",
            "Epoch 11/50\n",
            "8/9 [=========================>....] - ETA: 0s - loss: 0.0000e+00\n",
            "Epoch 11: val_loss did not improve from 0.00000\n",
            "9/9 [==============================] - 1s 78ms/step - loss: 0.0000e+00 - val_loss: 0.0000e+00\n",
            "Epoch 12/50\n",
            "8/9 [=========================>....] - ETA: 0s - loss: 0.0000e+00\n",
            "Epoch 12: val_loss did not improve from 0.00000\n",
            "9/9 [==============================] - 1s 75ms/step - loss: 0.0000e+00 - val_loss: 0.0000e+00\n",
            "Epoch 13/50\n",
            "8/9 [=========================>....] - ETA: 0s - loss: 0.0000e+00\n",
            "Epoch 13: val_loss did not improve from 0.00000\n",
            "9/9 [==============================] - 1s 75ms/step - loss: 0.0000e+00 - val_loss: 0.0000e+00\n",
            "Epoch 14/50\n",
            "8/9 [=========================>....] - ETA: 0s - loss: 0.0000e+00\n",
            "Epoch 14: val_loss did not improve from 0.00000\n",
            "9/9 [==============================] - 1s 76ms/step - loss: 0.0000e+00 - val_loss: 0.0000e+00\n",
            "Epoch 15/50\n",
            "8/9 [=========================>....] - ETA: 0s - loss: 0.0000e+00\n",
            "Epoch 15: val_loss did not improve from 0.00000\n",
            "9/9 [==============================] - 1s 74ms/step - loss: 0.0000e+00 - val_loss: 0.0000e+00\n",
            "Epoch 16/50\n",
            "8/9 [=========================>....] - ETA: 0s - loss: 0.0000e+00\n",
            "Epoch 16: val_loss did not improve from 0.00000\n",
            "9/9 [==============================] - 1s 80ms/step - loss: 0.0000e+00 - val_loss: 0.0000e+00\n",
            "Epoch 17/50\n",
            "8/9 [=========================>....] - ETA: 0s - loss: 0.0000e+00\n",
            "Epoch 17: val_loss did not improve from 0.00000\n",
            "9/9 [==============================] - 1s 72ms/step - loss: 0.0000e+00 - val_loss: 0.0000e+00\n",
            "Epoch 18/50\n",
            "8/9 [=========================>....] - ETA: 0s - loss: 0.0000e+00\n",
            "Epoch 18: val_loss did not improve from 0.00000\n",
            "9/9 [==============================] - 1s 75ms/step - loss: 0.0000e+00 - val_loss: 0.0000e+00\n",
            "Epoch 19/50\n",
            "8/9 [=========================>....] - ETA: 0s - loss: 0.0000e+00\n",
            "Epoch 19: val_loss did not improve from 0.00000\n",
            "9/9 [==============================] - 1s 74ms/step - loss: 0.0000e+00 - val_loss: 0.0000e+00\n",
            "Epoch 20/50\n",
            "8/9 [=========================>....] - ETA: 0s - loss: 0.0000e+00\n",
            "Epoch 20: val_loss did not improve from 0.00000\n",
            "9/9 [==============================] - 1s 73ms/step - loss: 0.0000e+00 - val_loss: 0.0000e+00\n",
            "Epoch 21/50\n",
            "8/9 [=========================>....] - ETA: 0s - loss: 0.0000e+00\n",
            "Epoch 21: val_loss did not improve from 0.00000\n",
            "9/9 [==============================] - 1s 78ms/step - loss: 0.0000e+00 - val_loss: 0.0000e+00\n",
            "Epoch 22/50\n",
            "8/9 [=========================>....] - ETA: 0s - loss: 0.0000e+00\n",
            "Epoch 22: val_loss did not improve from 0.00000\n",
            "9/9 [==============================] - 1s 76ms/step - loss: 0.0000e+00 - val_loss: 0.0000e+00\n",
            "Epoch 23/50\n",
            "8/9 [=========================>....] - ETA: 0s - loss: 0.0000e+00\n",
            "Epoch 23: val_loss did not improve from 0.00000\n",
            "9/9 [==============================] - 1s 73ms/step - loss: 0.0000e+00 - val_loss: 0.0000e+00\n",
            "Epoch 24/50\n",
            "9/9 [==============================] - ETA: 0s - loss: 0.0000e+00\n",
            "Epoch 24: val_loss did not improve from 0.00000\n",
            "9/9 [==============================] - 1s 121ms/step - loss: 0.0000e+00 - val_loss: 0.0000e+00\n",
            "Epoch 25/50\n",
            "9/9 [==============================] - ETA: 0s - loss: 0.0000e+00\n",
            "Epoch 25: val_loss did not improve from 0.00000\n",
            "9/9 [==============================] - 1s 118ms/step - loss: 0.0000e+00 - val_loss: 0.0000e+00\n",
            "Epoch 26/50\n",
            "8/9 [=========================>....] - ETA: 0s - loss: 0.0000e+00\n",
            "Epoch 26: val_loss did not improve from 0.00000\n",
            "9/9 [==============================] - 1s 116ms/step - loss: 0.0000e+00 - val_loss: 0.0000e+00\n",
            "Epoch 27/50\n",
            "8/9 [=========================>....] - ETA: 0s - loss: 0.0000e+00\n",
            "Epoch 27: val_loss did not improve from 0.00000\n",
            "9/9 [==============================] - 1s 80ms/step - loss: 0.0000e+00 - val_loss: 0.0000e+00\n",
            "Epoch 28/50\n",
            "8/9 [=========================>....] - ETA: 0s - loss: 0.0000e+00\n",
            "Epoch 28: val_loss did not improve from 0.00000\n",
            "9/9 [==============================] - 1s 81ms/step - loss: 0.0000e+00 - val_loss: 0.0000e+00\n",
            "Epoch 29/50\n",
            "8/9 [=========================>....] - ETA: 0s - loss: 0.0000e+00\n",
            "Epoch 29: val_loss did not improve from 0.00000\n",
            "9/9 [==============================] - 1s 77ms/step - loss: 0.0000e+00 - val_loss: 0.0000e+00\n",
            "Epoch 30/50\n",
            "8/9 [=========================>....] - ETA: 0s - loss: 0.0000e+00\n",
            "Epoch 30: val_loss did not improve from 0.00000\n",
            "9/9 [==============================] - 1s 77ms/step - loss: 0.0000e+00 - val_loss: 0.0000e+00\n",
            "Epoch 31/50\n",
            "8/9 [=========================>....] - ETA: 0s - loss: 0.0000e+00\n",
            "Epoch 31: val_loss did not improve from 0.00000\n",
            "9/9 [==============================] - 1s 77ms/step - loss: 0.0000e+00 - val_loss: 0.0000e+00\n",
            "Epoch 32/50\n",
            "8/9 [=========================>....] - ETA: 0s - loss: 0.0000e+00\n",
            "Epoch 32: val_loss did not improve from 0.00000\n",
            "9/9 [==============================] - 1s 88ms/step - loss: 0.0000e+00 - val_loss: 0.0000e+00\n",
            "Epoch 33/50\n",
            "8/9 [=========================>....] - ETA: 0s - loss: 0.0000e+00\n",
            "Epoch 33: val_loss did not improve from 0.00000\n",
            "9/9 [==============================] - 1s 98ms/step - loss: 0.0000e+00 - val_loss: 0.0000e+00\n",
            "Epoch 34/50\n",
            "8/9 [=========================>....] - ETA: 0s - loss: 0.0000e+00\n",
            "Epoch 34: val_loss did not improve from 0.00000\n",
            "9/9 [==============================] - 1s 75ms/step - loss: 0.0000e+00 - val_loss: 0.0000e+00\n",
            "Epoch 35/50\n",
            "8/9 [=========================>....] - ETA: 0s - loss: 0.0000e+00\n",
            "Epoch 35: val_loss did not improve from 0.00000\n",
            "9/9 [==============================] - 1s 76ms/step - loss: 0.0000e+00 - val_loss: 0.0000e+00\n",
            "Epoch 36/50\n",
            "8/9 [=========================>....] - ETA: 0s - loss: 0.0000e+00\n",
            "Epoch 36: val_loss did not improve from 0.00000\n",
            "9/9 [==============================] - 1s 77ms/step - loss: 0.0000e+00 - val_loss: 0.0000e+00\n",
            "Epoch 37/50\n",
            "8/9 [=========================>....] - ETA: 0s - loss: 0.0000e+00\n",
            "Epoch 37: val_loss did not improve from 0.00000\n",
            "9/9 [==============================] - 1s 76ms/step - loss: 0.0000e+00 - val_loss: 0.0000e+00\n",
            "Epoch 38/50\n",
            "8/9 [=========================>....] - ETA: 0s - loss: 0.0000e+00\n",
            "Epoch 38: val_loss did not improve from 0.00000\n",
            "9/9 [==============================] - 1s 75ms/step - loss: 0.0000e+00 - val_loss: 0.0000e+00\n",
            "Epoch 39/50\n",
            "8/9 [=========================>....] - ETA: 0s - loss: 0.0000e+00\n",
            "Epoch 39: val_loss did not improve from 0.00000\n",
            "9/9 [==============================] - 1s 79ms/step - loss: 0.0000e+00 - val_loss: 0.0000e+00\n",
            "Epoch 40/50\n",
            "9/9 [==============================] - ETA: 0s - loss: 0.0000e+00\n",
            "Epoch 40: val_loss did not improve from 0.00000\n",
            "9/9 [==============================] - 1s 104ms/step - loss: 0.0000e+00 - val_loss: 0.0000e+00\n",
            "Epoch 41/50\n",
            "9/9 [==============================] - ETA: 0s - loss: 0.0000e+00\n",
            "Epoch 41: val_loss did not improve from 0.00000\n",
            "9/9 [==============================] - 1s 118ms/step - loss: 0.0000e+00 - val_loss: 0.0000e+00\n",
            "Epoch 42/50\n",
            "9/9 [==============================] - ETA: 0s - loss: 0.0000e+00\n",
            "Epoch 42: val_loss did not improve from 0.00000\n",
            "9/9 [==============================] - 1s 119ms/step - loss: 0.0000e+00 - val_loss: 0.0000e+00\n",
            "Epoch 43/50\n",
            "8/9 [=========================>....] - ETA: 0s - loss: 0.0000e+00\n",
            "Epoch 43: val_loss did not improve from 0.00000\n",
            "9/9 [==============================] - 1s 79ms/step - loss: 0.0000e+00 - val_loss: 0.0000e+00\n",
            "Epoch 44/50\n",
            "8/9 [=========================>....] - ETA: 0s - loss: 0.0000e+00\n",
            "Epoch 44: val_loss did not improve from 0.00000\n",
            "9/9 [==============================] - 1s 79ms/step - loss: 0.0000e+00 - val_loss: 0.0000e+00\n",
            "Epoch 45/50\n",
            "8/9 [=========================>....] - ETA: 0s - loss: 0.0000e+00\n",
            "Epoch 45: val_loss did not improve from 0.00000\n",
            "9/9 [==============================] - 1s 77ms/step - loss: 0.0000e+00 - val_loss: 0.0000e+00\n",
            "Epoch 46/50\n",
            "8/9 [=========================>....] - ETA: 0s - loss: 0.0000e+00\n",
            "Epoch 46: val_loss did not improve from 0.00000\n",
            "9/9 [==============================] - 1s 78ms/step - loss: 0.0000e+00 - val_loss: 0.0000e+00\n",
            "Epoch 47/50\n",
            "8/9 [=========================>....] - ETA: 0s - loss: 0.0000e+00\n",
            "Epoch 47: val_loss did not improve from 0.00000\n",
            "9/9 [==============================] - 1s 76ms/step - loss: 0.0000e+00 - val_loss: 0.0000e+00\n",
            "Epoch 48/50\n",
            "8/9 [=========================>....] - ETA: 0s - loss: 0.0000e+00\n",
            "Epoch 48: val_loss did not improve from 0.00000\n",
            "9/9 [==============================] - 1s 151ms/step - loss: 0.0000e+00 - val_loss: 0.0000e+00\n",
            "Epoch 49/50\n",
            "8/9 [=========================>....] - ETA: 0s - loss: 0.0000e+00\n",
            "Epoch 49: val_loss did not improve from 0.00000\n",
            "9/9 [==============================] - 1s 78ms/step - loss: 0.0000e+00 - val_loss: 0.0000e+00\n",
            "Epoch 50/50\n",
            "8/9 [=========================>....] - ETA: 0s - loss: 0.0000e+00\n",
            "Epoch 50: val_loss did not improve from 0.00000\n",
            "9/9 [==============================] - 1s 74ms/step - loss: 0.0000e+00 - val_loss: 0.0000e+00\n"
          ]
        }
      ]
    },
    {
      "cell_type": "code",
      "source": [
        "#loading best model\n",
        "from keras.models import load_model\n",
        "model = load_model('best_model.h5')"
      ],
      "metadata": {
        "id": "xY7JfdH9-FRp"
      },
      "execution_count": null,
      "outputs": []
    },
    {
      "cell_type": "code",
      "source": [
        "import random\n",
        "ind = np.random.randint(0,len(x_val)-1)\n",
        "\n",
        "random_music = x_val[ind]\n",
        "\n",
        "predictions=[]\n",
        "for i in range(10):\n",
        "\n",
        "    random_music = random_music.reshape(1,no_of_timesteps)\n",
        "\n",
        "    prob  = model.predict(random_music)[0]\n",
        "    y_pred= np.argmax(prob,axis=0)\n",
        "    predictions.append(y_pred)\n",
        "\n",
        "    random_music = np.insert(random_music[0],len(random_music[0]),y_pred)\n",
        "    random_music = random_music[1:]\n",
        "\n",
        "print(predictions)"
      ],
      "metadata": {
        "colab": {
          "base_uri": "https://localhost:8080/"
        },
        "id": "uqRHN4I5-J6h",
        "outputId": "efd5fad2-8eda-4bdd-e492-4b6a4e8ce057"
      },
      "execution_count": null,
      "outputs": [
        {
          "output_type": "stream",
          "name": "stdout",
          "text": [
            "1/1 [==============================] - 0s 191ms/step\n",
            "1/1 [==============================] - 0s 26ms/step\n",
            "1/1 [==============================] - 0s 26ms/step\n",
            "1/1 [==============================] - 0s 25ms/step\n",
            "1/1 [==============================] - 0s 25ms/step\n",
            "1/1 [==============================] - 0s 30ms/step\n",
            "1/1 [==============================] - 0s 46ms/step\n",
            "1/1 [==============================] - 0s 34ms/step\n",
            "1/1 [==============================] - 0s 70ms/step\n",
            "1/1 [==============================] - 0s 42ms/step\n",
            "[0, 0, 0, 0, 0, 0, 0, 0, 0, 0]\n"
          ]
        }
      ]
    },
    {
      "cell_type": "code",
      "source": [
        "x_int_to_note = dict((number, note_) for number, note_ in enumerate(unique_x))\n",
        "predicted_notes = [x_int_to_note[i] for i in predictions]"
      ],
      "metadata": {
        "id": "n__i2b3j-UUL"
      },
      "execution_count": null,
      "outputs": []
    },
    {
      "cell_type": "code",
      "source": [
        "from music21 import note, chord, stream, instrument\n",
        "\n",
        "def convert_to_midi(prediction_output):\n",
        "    offset = 0\n",
        "    output_notes = []\n",
        "\n",
        "    # create note and chord objects based on the values generated by the model\n",
        "    for pattern in prediction_output:\n",
        "        # Convert pattern to string\n",
        "        pattern_str = str(pattern)\n",
        "\n",
        "        # pattern is a chord (if it contains '.' or is a digit)\n",
        "        if ('.' in pattern_str) or pattern_str.isdigit():\n",
        "            notes_in_chord = pattern_str.split('.')\n",
        "            notes = []\n",
        "            for current_note in notes_in_chord:\n",
        "                cn = int(current_note)\n",
        "                new_note = note.Note(cn)\n",
        "                new_note.storedInstrument = instrument.Piano()\n",
        "                notes.append(new_note)\n",
        "\n",
        "            new_chord = chord.Chord(notes)\n",
        "            new_chord.offset = offset\n",
        "            output_notes.append(new_chord)\n",
        "\n",
        "        # pattern is a single note\n",
        "        else:\n",
        "            new_note = note.Note(pattern_str)\n",
        "            new_note.offset = offset\n",
        "            new_note.storedInstrument = instrument.Piano()\n",
        "            output_notes.append(new_note)\n",
        "\n",
        "        # increase offset each iteration so that notes do not stack\n",
        "        offset += 1\n",
        "\n",
        "    # Create a MIDI stream from the output notes\n",
        "    midi_stream = stream.Stream(output_notes)\n",
        "\n",
        "    # Write the MIDI file\n",
        "    midi_stream.write('midi', fp='/content/generated_music.mid')"
      ],
      "metadata": {
        "id": "ftIsckd3-WTd"
      },
      "execution_count": null,
      "outputs": []
    },
    {
      "cell_type": "code",
      "source": [
        "convert_to_midi(predicted_notes)"
      ],
      "metadata": {
        "id": "5lMC-FkF-lnF"
      },
      "execution_count": null,
      "outputs": []
    }
  ]
}